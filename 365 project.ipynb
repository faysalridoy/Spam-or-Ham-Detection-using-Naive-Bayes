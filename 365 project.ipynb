{
 "cells": [
  {
   "cell_type": "code",
   "execution_count": 1,
   "metadata": {},
   "outputs": [
    {
     "name": "stdout",
     "output_type": "stream",
     "text": [
      "send email\n",
      "Mail Is Spam\n"
     ]
    }
   ],
   "source": [
    "import math\n",
    "\n",
    "with open(\"train.txt\") as f:\n",
    "    data = f.read()\n",
    "datalis = data.split('\\n')\n",
    "if(len(datalis[-1])==0):\n",
    "    datalis.pop()\n",
    "\n",
    "\n",
    "\n",
    "detect = {}\n",
    "wordli= set()\n",
    "totword= {}\n",
    "spamWord = {}\n",
    "hamWord = {}\n",
    "\n",
    "#for spam/ham detect----------------\n",
    "\n",
    "for i in datalis:\n",
    "    typee = i.split(' ')[0]\n",
    "    detect.setdefault(typee,0)\n",
    "    detect[typee] += 1\n",
    "    totword.setdefault(typee,{})\n",
    "\n",
    "#word count and add in a list---------------------------\n",
    "    \n",
    "for i in datalis:\n",
    "    tottext= i.split(' ')[1:]\n",
    "    typee = i.split(' ')[0]\n",
    "    for j,q in enumerate(tottext):\n",
    "        wordli.add(q)\n",
    "        totword[typee].setdefault(q,0)\n",
    "        totword[typee][q] +=1\n",
    "        spamWord.setdefault(q,0)\n",
    "        hamWord.setdefault(q,0)\n",
    "        if(typee==\"spam\"):\n",
    "            spamWord[q] += 1\n",
    "        else:\n",
    "            hamWord[q] += 1\n",
    "\n",
    "#probability count---------------------------\n",
    "\n",
    "probabilityHam = {}\n",
    "probabilitySpam = {}\n",
    "\n",
    "for word in wordli:\n",
    "    probabilityHam.setdefault(word,0)\n",
    "    probabilitySpam.setdefault(word,0)\n",
    "    probabilityHam[word] = float((hamWord[word]+1)/(detect[\"ham\"]+len(wordli)))\n",
    "    probabilitySpam[word] = float((spamWord[word]+1)/(detect[\"spam\"]+len(wordli)))\n",
    "\n",
    "\n",
    "newLine = input()\n",
    "newLineWord = newLine.split(' ')\n",
    "\n",
    "totalSpam = 0\n",
    "totalHam = 0\n",
    "\n",
    "\n",
    "#checking new value with pervious probability----------------------\n",
    "\n",
    "for word in newLineWord:\n",
    "    if word not in wordli:\n",
    "        totalSpam += float(math.log10(1/(detect[\"spam\"]+len(wordli))))\n",
    "        totalHam += float(math.log10(1/(detect[\"ham\"]+len(wordli))))\n",
    "    else:\n",
    "        totalHam += probabilityHam[word]\n",
    "        totalSpam += probabilitySpam[word]\n",
    "\n",
    "if totalSpam>totalHam:\n",
    "    print(\"Mail Is Spam\")\n",
    "else:\n",
    "    print(\"Mail Is Ham\")"
   ]
  },
  {
   "cell_type": "code",
   "execution_count": null,
   "metadata": {},
   "outputs": [],
   "source": []
  }
 ],
 "metadata": {
  "kernelspec": {
   "display_name": "Python 3",
   "language": "python",
   "name": "python3"
  },
  "language_info": {
   "codemirror_mode": {
    "name": "ipython",
    "version": 3
   },
   "file_extension": ".py",
   "mimetype": "text/x-python",
   "name": "python",
   "nbconvert_exporter": "python",
   "pygments_lexer": "ipython3",
   "version": "3.8.2"
  }
 },
 "nbformat": 4,
 "nbformat_minor": 4
}
